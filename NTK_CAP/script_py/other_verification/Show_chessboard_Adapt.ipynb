{
 "cells": [
  {
   "cell_type": "code",
   "execution_count": 1,
   "id": "3d1fe339",
   "metadata": {},
   "outputs": [],
   "source": [
    "import cv2\n",
    "import numpy as np\n",
    "from func_timeout import func_set_timeout\n",
    "def _findChessboardCornersAdapt(img, pattern, debug):\n",
    "    \"Adapt mode\"\n",
    "    img = cv2.adaptiveThreshold(img, 255,cv2.ADAPTIVE_THRESH_GAUSSIAN_C,\\\n",
    "                cv2.THRESH_BINARY, 21, 2)\n",
    "    return _findChessboardCorners(img, pattern, debug)\n"
   ]
  },
  {
   "cell_type": "code",
   "execution_count": 2,
   "id": "2ffe1ee7",
   "metadata": {},
   "outputs": [],
   "source": [
    "\n",
    "img = cv2.imread(r'E:\\software\\mmpose\\py_file_yyver1\\NTKCAP_1.1.1\\NTKCAP_1.1.1\\calibration\\Calibration\\IntrinsicCalibration\\images\\1\\000011.jpg')\n",
    "\n",
    "img = cv2.cvtColor(img,cv2.COLOR_BGR2GRAY)\n",
    "img = cv2.adaptiveThreshold(img, 255,cv2.ADAPTIVE_THRESH_GAUSSIAN_C,cv2.THRESH_BINARY, 21, 2)\n",
    "cv2.imshow(\"tset\",img)   \n",
    "cv2.waitKey(0)\n",
    "cv2.destroyAllWindows()\n"
   ]
  },
  {
   "cell_type": "code",
   "execution_count": 2,
   "id": "e819e71c",
   "metadata": {},
   "outputs": [],
   "source": [
    "img = cv2.imread(r'E:\\software\\mmpose\\py_file_yyver1\\NTKCAP_1.1.1\\NTKCAP_1.1.1\\calibration\\Calibration\\IntrinsicCalibration\\images\\1\\000011.jpg')\n",
    "cv2.imshow(\"tset\",img)   "
   ]
  },
  {
   "cell_type": "code",
   "execution_count": null,
   "id": "066297b9",
   "metadata": {},
   "outputs": [],
   "source": []
  }
 ],
 "metadata": {
  "kernelspec": {
   "display_name": "Python 3 (ipykernel)",
   "language": "python",
   "name": "python3"
  },
  "language_info": {
   "codemirror_mode": {
    "name": "ipython",
    "version": 3
   },
   "file_extension": ".py",
   "mimetype": "text/x-python",
   "name": "python",
   "nbconvert_exporter": "python",
   "pygments_lexer": "ipython3",
   "version": "3.7.16"
  }
 },
 "nbformat": 4,
 "nbformat_minor": 5
}
