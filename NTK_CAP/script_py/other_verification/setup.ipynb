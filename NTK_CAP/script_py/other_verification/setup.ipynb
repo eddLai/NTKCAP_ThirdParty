{
 "cells": [
  {
   "cell_type": "code",
   "execution_count": null,
   "id": "97fc6a97",
   "metadata": {},
   "outputs": [],
   "source": [
    "'''\n",
    "  @ Date: 2021-03-02 16:53:55\n",
    "  @ Author: Qing Shuai\n",
    "  @ LastEditors: Qing Shuai\n",
    "  @ LastEditTime: 2022-11-03 13:10:59\n",
    "  @ FilePath: /EasyMocapRelease/setup.py\n",
    "'''\n",
    "from setuptools import setup\n",
    "\n",
    "setup(\n",
    "    name='easymocap',     \n",
    "    version='0.2.1',   #\n",
    "    description='Easy Human Motion Capture Toolbox',\n",
    "    author='Qing Shuai', \n",
    "    author_email='s_q@zju.edu.cn',\n",
    "    # test_suite='setup.test_all',\n",
    "    packages=[\n",
    "        'easymocap',\n",
    "        'easymocap.dataset',\n",
    "        'easymocap.smplmodel',\n",
    "        'easymocap.pyfitting',\n",
    "        'easymocap.mytools', \n",
    "        'easymocap.annotator',\n",
    "        'easymocap.estimator'\n",
    "    ],\n",
    "    install_requires=[],\n",
    "    data_files = []\n",
    ")\n"
   ]
  }
 ],
 "metadata": {
  "kernelspec": {
   "display_name": "Python 3 (ipykernel)",
   "language": "python",
   "name": "python3"
  },
  "language_info": {
   "codemirror_mode": {
    "name": "ipython",
    "version": 3
   },
   "file_extension": ".py",
   "mimetype": "text/x-python",
   "name": "python",
   "nbconvert_exporter": "python",
   "pygments_lexer": "ipython3",
   "version": "3.7.16"
  }
 },
 "nbformat": 4,
 "nbformat_minor": 5
}
