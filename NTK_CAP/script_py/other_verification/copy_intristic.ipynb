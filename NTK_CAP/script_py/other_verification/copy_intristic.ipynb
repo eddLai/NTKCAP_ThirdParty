{
 "cells": [
  {
   "cell_type": "code",
   "execution_count": 1,
   "id": "f597f5f9",
   "metadata": {},
   "outputs": [
    {
     "name": "stdout",
     "output_type": "stream",
     "text": [
      "successfully_copy_intristic_parameter\n"
     ]
    }
   ],
   "source": [
    "import os\n",
    "import sys\n",
    "import shutil\n",
    "PWD = sys.executable\n",
    "PWD = os.path.abspath(os.path.join(PWD, os.pardir))\n",
    "source = os.path.join(PWD, \"intri_constant\",'intri.yml')\n",
    "target = os.path.join(PWD,'calibration','Calibration','IntrinsicCalibration','output')\n",
    "if not os.path.isdir(target):\n",
    "    os.mkdir(target) \n",
    "target = os.path.join(PWD,'calibration','Calibration','IntrinsicCalibration','output','intri.yml')\n",
    "if os.path.isfile(target):\n",
    "    os. remove(target) \n",
    "shutil.copyfile(source, target)\n",
    "\n",
    "print('successfully_copy_intristic_parameter')\n",
    "input(\"Press enter to exit;\")"
   ]
  }
 ],
 "metadata": {
  "kernelspec": {
   "display_name": "Python 3 (ipykernel)",
   "language": "python",
   "name": "python3"
  },
  "language_info": {
   "codemirror_mode": {
    "name": "ipython",
    "version": 3
   },
   "file_extension": ".py",
   "mimetype": "text/x-python",
   "name": "python",
   "nbconvert_exporter": "python",
   "pygments_lexer": "ipython3",
   "version": "3.10.0"
  }
 },
 "nbformat": 4,
 "nbformat_minor": 5
}
